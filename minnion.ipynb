{
 "cells": [
  {
   "cell_type": "code",
   "execution_count": 1,
   "metadata": {},
   "outputs": [
    {
     "name": "stdout",
     "output_type": "stream",
     "text": [
      "4.1.2\n"
     ]
    }
   ],
   "source": [
    "import cv2\n",
    "print( cv2.__version__ )\n",
    "import numpy as np\n",
    "import matplotlib.pyplot as plt\n",
    "%matplotlib inline"
   ]
  },
  {
   "cell_type": "code",
   "execution_count": 2,
   "metadata": {},
   "outputs": [
    {
     "name": "stdout",
     "output_type": "stream",
     "text": [
      "Video file opened successfully.\n"
     ]
    }
   ],
   "source": [
    "# Open a video file\n",
    "# Note that OpenCV only extracts image frames but not audio \n",
    "vdo = cv2.VideoCapture(\"./Minion.mp4\")\n",
    "\n",
    "if vdo.isOpened():\n",
    "    print('Video file opened successfully.')\n",
    "else:\n",
    "    print('Error. Video file could not be opened.')"
   ]
  },
  {
   "cell_type": "code",
   "execution_count": 3,
   "metadata": {},
   "outputs": [
    {
     "data": {
      "text/plain": [
       "(752, 1394, 3)"
      ]
     },
     "execution_count": 3,
     "metadata": {},
     "output_type": "execute_result"
    }
   ],
   "source": [
    "bg = cv2.imread('BG.jpg')\n",
    "bg.shape\n",
    "# สูงคือ row = 752   กว้าง column = 1394"
   ]
  },
  {
   "cell_type": "code",
   "execution_count": 4,
   "metadata": {},
   "outputs": [
    {
     "name": "stdout",
     "output_type": "stream",
     "text": [
      "(720, 1280, 3)\n"
     ]
    }
   ],
   "source": [
    "while True:\n",
    "    retval,img = vdo.read()\n",
    "    if ( retval ):\n",
    "        cv2.imshow('fgdg',img)\n",
    "    if (cv2.waitKey(25)== 27):       # press ESC to quit\n",
    "        break\n",
    "        \n",
    "print(img.shape)"
   ]
  },
  {
   "cell_type": "code",
   "execution_count": 5,
   "metadata": {},
   "outputs": [],
   "source": [
    "cv2.destroyAllWindows()             # close all windows\n",
    "if vdo.isOpened(): \n",
    "    vdo.release()"
   ]
  },
  {
   "cell_type": "code",
   "execution_count": 16,
   "metadata": {},
   "outputs": [
    {
     "name": "stdout",
     "output_type": "stream",
     "text": [
      "Video file opened successfully.\n"
     ]
    }
   ],
   "source": [
    "# Open a video file\n",
    "# Note that OpenCV only extracts image frames but not audio \n",
    "vdo = cv2.VideoCapture(\"./Minion.mp4\")\n",
    "\n",
    "if vdo.isOpened():\n",
    "    print('Video file opened successfully.')\n",
    "else:\n",
    "    print('Error. Video file could not be opened.')"
   ]
  },
  {
   "cell_type": "code",
   "execution_count": 17,
   "metadata": {},
   "outputs": [],
   "source": [
    "bg = cv2.imread('BG.jpg')\n",
    "\n",
    "while True:\n",
    "    retval,img = vdo.read()\n",
    "    if ( retval ):\n",
    "        img_hsv = cv2.cvtColor(img, cv2.COLOR_BGR2HSV)\n",
    "        # แยก channel\n",
    "        src_h = img_hsv[...,0]\n",
    "        src_s = img_hsv[...,1]\n",
    "        src_v = img_hsv[...,2]\n",
    "        \n",
    "        # threshold h\n",
    "        thres1 = 50\n",
    "        thres2 = 70\n",
    "        # พื้นหลังอันนี้เป็นสีขาว มินเนี่ยนดำ\n",
    "        mask_h = cv2.inRange(src_h, thres1, thres2)  #จากสีเขียว inrange เปลี่ยนเป็นสีขาว (bg)\n",
    "        \n",
    "        # ทำการสลับสีโดยใช้ not  ตอนนี้มินเนี่ยนเป็นสีขาวพื้นหลังดำ\n",
    "        mask_h = cv2.bitwise_not(mask_h)\n",
    "        \n",
    "        # ใช้ thresh_binary คือ ถ้า ค่า pixel ไหนมากกว่า threshold เราจะกำหนดให้เป็น maxval ณ ที่นี่เราตั้ง = 255\n",
    "        min_sat = 0.01\n",
    "        ret, mask_s = cv2.threshold(src_s, min_sat*255, 255, cv2.THRESH_BINARY) #เกิน min_sat*255 ถึงให้เป็นขาว\n",
    "    \n",
    "        # รวม H S ตอนนี้เจอมินเนี่ยนเป็นสีขาว แต่พื้นหลังสีดำ\n",
    "        mask_hs = cv2.bitwise_and(mask_h, mask_s)   # xor ตรงข้ามกับ and \n",
    "        \n",
    "        # morp\n",
    "        dilate = 3\n",
    "        erode = 3\n",
    "        ksize = 3\n",
    "        kernel = cv2.getStructuringElement( cv2.MORPH_RECT, (ksize,ksize) )\n",
    "\n",
    "        dilate = cv2.dilate(mask_hs, kernel, iterations = dilate)\n",
    "        erode = cv2.erode(dilate, kernel, iterations = erode)\n",
    "        img_morp = erode.copy()\n",
    "        \n",
    "        out = cv2.findContours(img_morp, cv2.RETR_EXTERNAL, cv2.CHAIN_APPROX_SIMPLE)\n",
    "        if len(out) == 2:\n",
    "            contours,hierarchy = out\n",
    "        if len(out) == 3:\n",
    "            _,contours,hierarchy = out\n",
    "        \n",
    "        draw_contour = np.zeros_like(img)\n",
    "        cv2.drawContours(draw_contour, contours, -1, (255,255,255), thickness = -1) \n",
    "                                    # thickness = -1 คือ ระบายสีข้างในเส้น contour ทั้งหมด\n",
    "        \n",
    "        \n",
    "        # result คือการจับภาพจริงมารวมกับที่ mask ไว้\n",
    "        result = cv2.bitwise_and(img, draw_contour)  # ถ้าใช้ Morp ก็เปลี่ยน mask_hs เป็น img_morp แทน\n",
    "        \n",
    "        \n",
    "        # resize  w ขึ้นก่อนเลยเอา index = 1\n",
    "        # image shape ต้องปริ้นดูรอบนึง\n",
    "        bg_re = cv2.resize(bg,(img.shape[1],img.shape[0]))\n",
    "        \n",
    "        # สร้าง condition เพื่อหาตำแหน่งที่จะสร้าง background สีดำ\n",
    "        #condition = (result[...,0] ==0) & (result[...,1] == 0)& (result[...,2] == 0)\n",
    "        condition = result[...] == 0\n",
    "        result[condition] = bg_re[condition]       \n",
    "        \n",
    "        \n",
    "#         cv2.inRange()\n",
    "        cv2.imshow(\"Video\", draw_contour)\n",
    "    else:\n",
    "        print(\"Error, no image from video file\")\n",
    "\n",
    "    # Wait 1 millisecond for any key press        \n",
    "    if (cv2.waitKey(25)== 27):       # press ESC to quit\n",
    "        break\n",
    "vdo.release()\n",
    "cv2.destroyAllWindows()  "
   ]
  },
  {
   "cell_type": "code",
   "execution_count": null,
   "metadata": {},
   "outputs": [],
   "source": [
    "img.shape"
   ]
  },
  {
   "cell_type": "code",
   "execution_count": 19,
   "metadata": {},
   "outputs": [
    {
     "name": "stdout",
     "output_type": "stream",
     "text": [
      "Video file opened successfully.\n"
     ]
    }
   ],
   "source": [
    "# Open a video file\n",
    "# Note that OpenCV only extracts image frames but not audio \n",
    "vdo = cv2.VideoCapture(\"./Minion.mp4\")\n",
    "\n",
    "if vdo.isOpened():\n",
    "    print('Video file opened successfully.')\n",
    "else:\n",
    "    print('Error. Video file could not be opened.')"
   ]
  },
  {
   "cell_type": "code",
   "execution_count": null,
   "metadata": {},
   "outputs": [],
   "source": [
    "# use edge detection\n",
    "while True:\n",
    "    retval,img = vdo.read()\n",
    "    if ( retval ):\n",
    "        img_gray = cv2.cvtColor(img, cv2.COLOR_BGR2GRAY)\n",
    "        \n",
    "        max_val = 10\n",
    "        min_val = 2\n",
    "        canny = cv2.Canny(img_gray,max_val, min_val)\n",
    "        \n",
    "        # morphological\n",
    "        ksize = 5\n",
    "        cnt_dilate = 5\n",
    "        cnt_erode = 5\n",
    "        \n",
    "        kernel = cv2.getStructuringElement( cv2.MORPH_RECT, (ksize,ksize) )\n",
    "\n",
    "        #morph_result = cv2.erode ( src_thresh, kernel, iterations=cnt_erode )\n",
    "        morph_result = cv2.dilate ( canny, kernel, iterations=cnt_dilate )\n",
    "        morph_result = cv2.erode ( morph_result, kernel, iterations=cnt_erode )\n",
    "        \n",
    "        # find contour line\n",
    "        out = cv2.findContours(morph_result, cv2.RETR_EXTERNAL, cv2.CHAIN_APPROX_SIMPLE)\n",
    "        if len(out) == 2:\n",
    "            contours,hierarchy = out\n",
    "        if len(out) == 3:\n",
    "            _,contours,hierarchy = out\n",
    "        \n",
    "        draw_contour = np.zeros_like( img )\n",
    "        cv2.drawContours ( draw_contour, contours, -1, (255,255,255), thickness = -1 )\n",
    "        \n",
    "        # แสดงผล\n",
    "        result = cv2.bitwise_and(img, draw_contour)\n",
    "  \n",
    "        cv2.imshow(\"Video\",result)\n",
    "    else:\n",
    "        print(\"Error, no image from video file\")\n",
    "\n",
    "    # Wait 1 millisecond for any key press        \n",
    "    if (cv2.waitKey(50)== 27):       # press ESC to quit\n",
    "        break\n",
    "        \n",
    "cv2.destroyAllWindows()             # close all windows\n",
    "if vdo.isOpened(): \n",
    "    vdo.release()"
   ]
  },
  {
   "cell_type": "code",
   "execution_count": 4,
   "metadata": {},
   "outputs": [],
   "source": [
    "cv2.destroyAllWindows()             # close all windows\n",
    "if vdo.isOpened(): \n",
    "    vdo.release()"
   ]
  },
  {
   "cell_type": "code",
   "execution_count": null,
   "metadata": {},
   "outputs": [],
   "source": []
  }
 ],
 "metadata": {
  "kernelspec": {
   "display_name": "Python 3",
   "language": "python",
   "name": "python3"
  },
  "language_info": {
   "codemirror_mode": {
    "name": "ipython",
    "version": 3
   },
   "file_extension": ".py",
   "mimetype": "text/x-python",
   "name": "python",
   "nbconvert_exporter": "python",
   "pygments_lexer": "ipython3",
   "version": "3.7.3"
  }
 },
 "nbformat": 4,
 "nbformat_minor": 2
}
